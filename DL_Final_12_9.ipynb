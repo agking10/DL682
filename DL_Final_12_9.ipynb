{
  "nbformat": 4,
  "nbformat_minor": 0,
  "metadata": {
    "accelerator": "GPU",
    "colab": {
      "name": " DL_Final 12/9 COPY.ipynb",
      "provenance": [],
      "collapsed_sections": []
    },
    "kernelspec": {
      "display_name": "Python 3",
      "name": "python3"
    }
  },
  "cells": [
    {
      "cell_type": "code",
      "metadata": {
        "colab": {
          "base_uri": "https://localhost:8080/"
        },
        "id": "DfGj4RPNgA2R",
        "outputId": "f7143abe-39e2-425a-e356-48c159692187"
      },
      "source": [
        "from google.colab import drive\n",
        "drive.mount('/content/drive')"
      ],
      "execution_count": 1,
      "outputs": [
        {
          "output_type": "stream",
          "text": [
            "Mounted at /content/drive\n"
          ],
          "name": "stdout"
        }
      ]
    },
    {
      "cell_type": "code",
      "metadata": {
        "id": "Li4S-KPjHowv"
      },
      "source": [
        "# from google.colab import drive\n",
        "# drive.mount(\"/ShardDrives/\")"
      ],
      "execution_count": null,
      "outputs": []
    },
    {
      "cell_type": "code",
      "metadata": {
        "colab": {
          "base_uri": "https://localhost:8080/"
        },
        "id": "tdRPSGcDgETb",
        "outputId": "92734c08-1d6f-4a9b-c21f-bf5718f3122e"
      },
      "source": [
        "!pip install torchaudio==0.7.0\r\n"
      ],
      "execution_count": 2,
      "outputs": [
        {
          "output_type": "stream",
          "text": [
            "Collecting torchaudio==0.7.0\n",
            "\u001b[?25l  Downloading https://files.pythonhosted.org/packages/3f/23/6b54106b3de029d3f10cf8debc302491c17630357449c900d6209665b302/torchaudio-0.7.0-cp36-cp36m-manylinux1_x86_64.whl (7.6MB)\n",
            "\u001b[K     |████████████████████████████████| 7.6MB 3.6MB/s \n",
            "\u001b[?25hRequirement already satisfied: torch==1.7.0 in /usr/local/lib/python3.6/dist-packages (from torchaudio==0.7.0) (1.7.0+cu101)\n",
            "Requirement already satisfied: dataclasses in /usr/local/lib/python3.6/dist-packages (from torch==1.7.0->torchaudio==0.7.0) (0.8)\n",
            "Requirement already satisfied: numpy in /usr/local/lib/python3.6/dist-packages (from torch==1.7.0->torchaudio==0.7.0) (1.18.5)\n",
            "Requirement already satisfied: future in /usr/local/lib/python3.6/dist-packages (from torch==1.7.0->torchaudio==0.7.0) (0.16.0)\n",
            "Requirement already satisfied: typing-extensions in /usr/local/lib/python3.6/dist-packages (from torch==1.7.0->torchaudio==0.7.0) (3.7.4.3)\n",
            "Installing collected packages: torchaudio\n",
            "Successfully installed torchaudio-0.7.0\n"
          ],
          "name": "stdout"
        }
      ]
    },
    {
      "cell_type": "code",
      "metadata": {
        "colab": {
          "base_uri": "https://localhost:8080/"
        },
        "id": "kr4rL5YlgHJ8",
        "outputId": "4c79a193-7008-4c7c-f710-90954724faf2"
      },
      "source": [
        "import os\n",
        "import numpy as np\n",
        "import random\n",
        "import torch.nn as nn\n",
        "import importlib\n",
        "import torch\n",
        "from torch.utils.data import Dataset, DataLoader, Subset\n",
        "import wave\n",
        "import torchaudio\n",
        "import matplotlib.pyplot as plt\n",
        "from IPython.core.debugger import set_trace\n",
        "from timeit import default_timer as timer\n",
        "\n",
        "gpu_boole = torch.cuda.is_available()"
      ],
      "execution_count": 3,
      "outputs": [
        {
          "output_type": "stream",
          "text": [
            "/usr/local/lib/python3.6/dist-packages/torchaudio/backend/utils.py:54: UserWarning: \"sox\" backend is being deprecated. The default backend will be changed to \"sox_io\" backend in 0.8.0 and \"sox\" backend will be removed in 0.9.0. Please migrate to \"sox_io\" backend. Please refer to https://github.com/pytorch/audio/issues/903 for the detail.\n",
            "  '\"sox\" backend is being deprecated. '\n"
          ],
          "name": "stderr"
        }
      ]
    },
    {
      "cell_type": "code",
      "metadata": {
        "colab": {
          "base_uri": "https://localhost:8080/"
        },
        "id": "gKC0VM8hVOlY",
        "outputId": "6286ea87-6300-4be2-ccf4-50c9509763e9"
      },
      "source": [
        "%cd /content/drive/My Drive/Colab_Notebooks/DL682/Final/"
      ],
      "execution_count": 4,
      "outputs": [
        {
          "output_type": "stream",
          "text": [
            "/content/drive/My Drive/Colab_Notebooks/DL682/Final\n"
          ],
          "name": "stdout"
        }
      ]
    },
    {
      "cell_type": "code",
      "metadata": {
        "id": "7ZaHU__QCnz0"
      },
      "source": [
        "#Function to write a tensor to a .wav file\n",
        "#Input: tensor with shape [1, L]\n",
        "def tensor2wav(fname, signal, sr):\n",
        "  f = wave.open(fname, 'wb')\n",
        "  f.setnchannels(1)\n",
        "  f.setsampwidth(2)\n",
        "  f.setframerate(sr)\n",
        "  f.writeframes(signal.data.numpy().astype(np.uint16))\n",
        "  f.close()"
      ],
      "execution_count": 5,
      "outputs": []
    },
    {
      "cell_type": "code",
      "metadata": {
        "id": "Gjp6HowEEMUo"
      },
      "source": [
        "#Function to pad sequences so they can be batched\n",
        "\n",
        "#TODO: Create new collate_fn to stack examples on top of each other given they are in the format [N, 1, L]\n",
        "def collate_fn_padd(batch):\n",
        "    '''\n",
        "    Padds batch of variable length\n",
        "    '''\n",
        "    \n",
        "    ## get sequence lengths\n",
        "    sample_lengths = torch.tensor([ t['sample'].shape[0] for t in batch ])\n",
        "    target_lengths = torch.tensor([ t['target'].shape[0] for t in batch ])\n",
        "    ## padd\n",
        "    samples = [ t['sample'] for t in batch ]\n",
        "    targets = [ t['target'] for t in batch ]\n",
        "    samples = torch.nn.utils.rnn.pad_sequence(samples).transpose(0,1)\n",
        "    targets = torch.nn.utils.rnn.pad_sequence(targets).transpose(0,1)\n",
        "    ## compute mask\n",
        "    batch = {'sample': samples.unsqueeze(1), 'target': targets.unsqueeze(1)}\n",
        "    return batch\n",
        "\n",
        "def collate_fn_chunk(batch):\n",
        "    samples, targets = [], []\n",
        "    for t in batch:\n",
        "        samples.append(t['sample'])\n",
        "        targets.append(t['target'])\n",
        "    # concatenate along dimension 0 (chunk/minibatch)\n",
        "    batch = {'sample': torch.cat(samples, dim=0), 'target': torch.cat(targets, dim=0)}\n",
        "    return batch"
      ],
      "execution_count": 15,
      "outputs": []
    },
    {
      "cell_type": "code",
      "metadata": {
        "id": "_dpjVOKCCuYt"
      },
      "source": [
        "#Function to evaluate the model\n",
        "def model_eval(model, dataloader, loss_metric, mode=\"Train\", verbose=True):\n",
        "  model.eval()\n",
        "  total_loss = 0\n",
        "  n_batches = 0\n",
        "  total_correct = 0\n",
        "  total = 0\n",
        "\n",
        "  for batch in dataloader:\n",
        "    samples, targets = batch['sample'], batch['target']\n",
        "    if gpu_boole:\n",
        "      samples, targets = samples.cuda(), targets.cuda()\n",
        "    \n",
        "    with torch.no_grad():\n",
        "      outputs = model(samples)\n",
        "      loss = loss_metric(outputs, targets)\n",
        "      pred = torch.argmax(outputs, dim = 1)\n",
        "      N = samples.shape[0]\n",
        "      total += N\n",
        "\n",
        "    total_loss += loss.detach()\n",
        "    n_batches += 1\n",
        "\n",
        "  total_loss /= n_batches\n",
        "\n",
        "  if verbose:\n",
        "    print(\"Loss: %1.2f\" %(total_loss.cpu().data.numpy().item()))\n",
        "\n",
        "  return total_loss.cpu().data.numpy().item()\n",
        "    "
      ],
      "execution_count": 8,
      "outputs": []
    },
    {
      "cell_type": "code",
      "metadata": {
        "id": "bFEYHxoTrnJa"
      },
      "source": [
        "# data_loader.py\n",
        "\"\"\"\n",
        "Description : Set DataSet module for SimpleUpsampler\n",
        "\"\"\"\n",
        "import torchaudio\n",
        "\n",
        "import os\n",
        "import numpy as np\n",
        "import random\n",
        "import torch.nn as nn\n",
        "import importlib\n",
        "import torch\n",
        "from torch.utils.data import Dataset, DataLoader\n",
        "import wave\n",
        "\n",
        "import matplotlib.pyplot as plt\n",
        "from IPython.core.debugger import set_trace\n",
        "\n",
        "def load_data():\n",
        "  data = torchaudio.datasets.LJSPEECH(root='.', download=True)\n",
        "  return data\n",
        "\n",
        "class testDataset(Dataset):\n",
        "  def __init__(self,data_dir, sample_sr=12000, target_sr=24000 ):\n",
        "    self.files = []\n",
        "    self.data_dir = data_dir\n",
        "    pathname=data_dir\n",
        "    for filename in os.listdir(self.data_dir):\n",
        "      self.files.append(os.path.join(pathname, filename))\n",
        "    self.target_sr = target_sr\n",
        "    self.sample_sr = sample_sr\n",
        "    self.upsample = torchaudio.transforms.Resample(22050, target_sr)\n",
        "    self.downsample = torchaudio.transforms.Resample(target_sr, sample_sr)\n",
        "    self.ratio = target_sr // sample_sr  \n",
        "    self.mu_law = torchaudio.transforms.MuLawEncoding(quantization_channels=256)\n",
        "\n",
        "  def __len__(self):\n",
        "    return len(self.files)\n",
        "\n",
        "  def __getitem__(self, idx):\n",
        "    #set_trace()\n",
        "    target, _ = torchaudio.load(self.files[idx])\n",
        "    target_sr = self.target_sr\n",
        "    target = self.upsample(target)\n",
        "    sample = self.transform_audio(target).squeeze(0)\n",
        "    sample_sr = target_sr // self.ratio\n",
        "    target = target.squeeze(0)\n",
        "\n",
        "    # length of a chunk in seconds\n",
        "    chunk_length_sec = 0.5\n",
        "    # length of a chunk in number of samples\n",
        "    chunk_length_sample = int(chunk_length_sec * sample_sr)\n",
        "    chunk_length_target = int(chunk_length_sec * target_sr)\n",
        "    # length of new audio, which must be divisible by the chunk length\n",
        "    # We need to make sure the target sample is a multiple of our SR ratio or else\n",
        "    # We won't be able to recover a sequence exactly the same length\n",
        "    # Here I did not use integer division (or floor), but ceiling to keep all\n",
        "    # samples and fill the rest of the tensor with zeros.\n",
        "    new_length_sample = int(np.ceil(sample.size(0) / chunk_length_sample) * chunk_length_sample)\n",
        "    new_length_target = int(np.ceil(target.size(0) / chunk_length_target) * chunk_length_target)\n",
        "\n",
        "    # create new tensors\n",
        "    _sample = torch.zeros([new_length_sample])\n",
        "    _target = torch.zeros([new_length_target])\n",
        "    _sample[:sample.size(0)] = sample\n",
        "    _target[:target.size(0)] = target\n",
        "\n",
        "    # convert dimensions to [num of chunks, 1, chunk length (fixed)]\n",
        "    sample = _sample.view([-1, 1, chunk_length_sample])\n",
        "    target = _target.view([-1, 1, chunk_length_target])\n",
        "\n",
        "    return {'sample': sample, 'target': target}\n",
        "\n",
        "  def transform_audio(self, signal):\n",
        "    return self.downsample(signal.float())"
      ],
      "execution_count": 9,
      "outputs": []
    },
    {
      "cell_type": "code",
      "metadata": {
        "id": "sCdfy7iTpB3d"
      },
      "source": [
        "#Replace with data directory\n",
        "data_dir = '/content/drive/MyDrive/Colab_Notebooks/DL682/Final/LJSpeech-1.1/wavs'\n",
        "data = testDataset(data_dir, sample_sr=12000)\n",
        "#data = testDataset('/content/LJSpeech-1.1/wavs', 'train')\n"
      ],
      "execution_count": 11,
      "outputs": []
    },
    {
      "cell_type": "code",
      "metadata": {
        "colab": {
          "base_uri": "https://localhost:8080/"
        },
        "id": "_XHhL_BwDvig",
        "outputId": "2f5b0c85-d4bd-41b8-9afe-da3870eac450"
      },
      "source": [
        "data[0]['sample'].shape"
      ],
      "execution_count": null,
      "outputs": [
        {
          "output_type": "execute_result",
          "data": {
            "text/plain": [
              "torch.Size([6, 1, 6000])"
            ]
          },
          "metadata": {
            "tags": []
          },
          "execution_count": 12
        }
      ]
    },
    {
      "cell_type": "code",
      "metadata": {
        "id": "ejktapWrm_eH"
      },
      "source": [
        "#Generate train, validation, test splits\r\n",
        "import random\r\n",
        "N = len(data)\r\n",
        "inds = range(len(data))\r\n",
        "random.seed(0)\r\n",
        "train_inds = random.sample(inds, int(0.6 * len(data)))\r\n",
        "remaining = set(inds).difference(set(train_inds))\r\n",
        "validation_inds = random.sample(remaining, int(0.5 * len(remaining)))\r\n",
        "test_inds = remaining.difference(validation_inds)\r\n"
      ],
      "execution_count": 12,
      "outputs": []
    },
    {
      "cell_type": "code",
      "metadata": {
        "id": "MmSVw3CLoPqC"
      },
      "source": [
        "train_data = Subset(data, train_inds)\r\n",
        "val_data = Subset(data, validation_inds)\r\n",
        "test_data = Subset(data, list(test_inds))"
      ],
      "execution_count": 19,
      "outputs": []
    },
    {
      "cell_type": "code",
      "metadata": {
        "id": "uwcTpGDGoecc"
      },
      "source": [
        "train_loader = DataLoader(train_data, batch_size=2, shuffle=True, collate_fn=collate_fn_chunk)\r\n",
        "val_loader = DataLoader(val_data, batch_size=2, collate_fn=collate_fn_chunk)\r\n",
        "test_loader = DataLoader(test_data, batch_size=2, collate_fn=collate_fn_chunk)"
      ],
      "execution_count": 20,
      "outputs": []
    },
    {
      "cell_type": "code",
      "metadata": {
        "id": "KLsnXJYji2K4"
      },
      "source": [
        "class SimpleUpsampler(nn.Module):\n",
        "  def __init__(self):\n",
        "    super(SimpleUpsampler, self).__init__()\n",
        "\n",
        "    self.causal_conv = nn.Sequential(\n",
        "        nn.Conv1d(1, 32, kernel_size=3, padding=1),\n",
        "        nn.ReLU(),\n",
        "        nn.Conv1d(32, 64, kernel_size=3, padding=1),\n",
        "        nn.BatchNorm1d(64),\n",
        "        nn.ReLU(),\n",
        "        nn.Conv1d(64, 64, kernel_size=3, padding=1),\n",
        "        nn.ReLU(),\n",
        "        nn.BatchNorm1d(64),\n",
        "        nn.Conv1d(64, 64, kernel_size=3, dilation=2, padding = 3),\n",
        "        nn.ReLU(),\n",
        "    )\n",
        "\n",
        "    self.upsample = nn.ConvTranspose1d(64, 64, kernel_size=8, stride=2, padding=5)\n",
        "    self.relu = nn.ReLU()\n",
        "\n",
        "    self.final_conv = nn.Sequential(\n",
        "        nn.Conv1d(64, 64, kernel_size=3, padding=1),\n",
        "        nn.BatchNorm1d(64),\n",
        "        nn.ReLU(),\n",
        "        nn.Conv1d(64, 64, kernel_size=3, padding=1),\n",
        "        nn.BatchNorm1d(64),\n",
        "        nn.ReLU(),\n",
        "        nn.Conv1d(64, 64, kernel_size=3, padding=1),\n",
        "        nn.BatchNorm1d(64),\n",
        "        nn.ReLU(),\n",
        "        nn.Conv1d(64, 1, kernel_size=5, padding=2),\n",
        "        nn.Tanh()\n",
        "    )\n",
        "\n",
        "  def forward(self, x):\n",
        "    out = self.causal_conv(x)\n",
        "    out = self.relu(self.upsample(out))\n",
        "    out = self.final_conv(out)\n",
        "    return out"
      ],
      "execution_count": 17,
      "outputs": []
    },
    {
      "cell_type": "code",
      "metadata": {
        "id": "z40P28_LbQQ-"
      },
      "source": [
        "# # copied version of above for testing \n",
        "\n",
        "class LargeUpsampler(nn.Module):\n",
        "  def __init__(self):\n",
        "    super(SimpleUpsampler4, self).__init__()\n",
        "\n",
        "    self.causal_conv = nn.Sequential(\n",
        "        nn.Conv1d(1, 16, kernel_size=3, padding=1),\n",
        "        nn.ReLU(),\n",
        "        nn.Conv1d(16, 32, kernel_size=3, padding=1),\n",
        "        nn.ReLU(),\n",
        "        nn.Conv1d(32, 64, kernel_size=3, padding=1),\n",
        "        nn.ReLU(),\n",
        "        nn.Conv1d(64, 64, kernel_size=3, dilation=2, padding = 2),\n",
        "        nn.ReLU()\n",
        "    )\n",
        "\n",
        "    self.upsample = nn.ConvTranspose1d(64, 64, kernel_size=8, stride=2, padding=4)\n",
        "    self.relu = nn.ReLU()\n",
        "    self.stage_2 = nn.Sequential(\n",
        "        nn.Conv1d(64, 64, kernel_size=3, padding=1),\n",
        "        nn.ReLU(),\n",
        "        nn.Conv1d(64, 64, kernel_size=3, padding=1),\n",
        "        nn.ReLU(),\n",
        "        nn.Conv1d(64, 64, kernel_size=3, padding=1),\n",
        "        nn.ReLU(),\n",
        "        nn.Conv1d(64, 64, kernel_size=3, dilation=2, padding = 2),\n",
        "        nn.ReLU()\n",
        "    )\n",
        "\n",
        "    self.final_conv = nn.Sequential(\n",
        "        nn.Conv1d(64, 64, kernel_size=3, padding=1),\n",
        "        nn.ReLU(),\n",
        "        nn.Conv1d(64, 64, kernel_size=3, padding=1),\n",
        "        nn.ReLU(),\n",
        "        nn.Conv1d(64, 32, kernel_size=3, padding=1),\n",
        "        nn.ReLU(),\n",
        "        nn.Conv1d(32, 1, kernel_size=5, padding=2),\n",
        "        nn.Tanh()\n",
        "    )\n",
        "    self.batchnorm = nn.BatchNorm1d(64)\n",
        "\n",
        "  def forward(self, x):\n",
        "    out = self.causal_conv(x)\n",
        "    out = self.relu(self.upsample(out))\n",
        "    out = self.batchnorm(out)\n",
        "    out = self.relu(self.stage_2(out))\n",
        "    out = self.batchnorm(out)\n",
        "    out = self.relu(self.upsample(out))\n",
        "    out = self.final_conv(out)\n",
        "    return out"
      ],
      "execution_count": 23,
      "outputs": []
    },
    {
      "cell_type": "code",
      "metadata": {
        "id": "g0G-HN1H9pPj"
      },
      "source": [
        "# weight initialization\n",
        "\n",
        "def weights_init(model):\n",
        "  for i in model.modules():\n",
        "    if isinstance(i, nn.Conv1d) or isinstance(i, nn.ConvTranspose1d):\n",
        "      nn.init.xavier_uniform_(i.weight.data)"
      ],
      "execution_count": 18,
      "outputs": []
    },
    {
      "cell_type": "code",
      "metadata": {
        "id": "GA3wfStJohHV"
      },
      "source": [
        "# calling the network\n",
        "\n",
        "model = SimpleUpsampler()\n",
        "model.apply(weights_init)\n",
        "\n",
        "optimizer = torch.optim.Adam(model.parameters(), lr=0.0005)\n",
        "epochs = 10\n",
        "loss_metric = nn.MSELoss()\n",
        "if gpu_boole:\n",
        "  model = model.cuda()"
      ],
      "execution_count": 58,
      "outputs": []
    },
    {
      "cell_type": "code",
      "metadata": {
        "colab": {
          "base_uri": "https://localhost:8080/"
        },
        "id": "ipy5NXzFTDGQ",
        "outputId": "5b1667e1-6c48-4d87-9302-e1752b753206"
      },
      "source": [
        "spec = torchaudio.transforms.Spectrogram().cuda()\r\n",
        "for batch in train_loader:\r\n",
        "  sample = batch['sample'].cuda()\r\n",
        "  out = model(sample)\r\n",
        "  print(out.shape)\r\n",
        "  print(spec(out).shape)\r\n",
        "  break"
      ],
      "execution_count": null,
      "outputs": [
        {
          "output_type": "stream",
          "text": [
            "torch.Size([32, 1, 12000])\n",
            "torch.Size([32, 1, 201, 61])\n"
          ],
          "name": "stdout"
        }
      ]
    },
    {
      "cell_type": "code",
      "metadata": {
        "colab": {
          "base_uri": "https://localhost:8080/"
        },
        "id": "LtE7WjuGS3E9",
        "outputId": "40813f40-f121-4b3d-b499-3a16afa45026"
      },
      "source": [
        "# parameters to calculate in the model \n",
        "total_params = sum(p.numel() for p in model.parameters())\n",
        "print(f'{total_params:,} total parameters.')\n",
        "# initial design = 101,249 param"
      ],
      "execution_count": 59,
      "outputs": [
        {
          "output_type": "stream",
          "text": [
            "101,889 total parameters.\n"
          ],
          "name": "stdout"
        }
      ]
    },
    {
      "cell_type": "code",
      "metadata": {
        "colab": {
          "base_uri": "https://localhost:8080/",
          "height": 181
        },
        "id": "ikd466_HqEy_",
        "outputId": "977689d8-1a0e-4bd9-8857-4d0a90c3152b"
      },
      "source": [
        "# train_loader = DataLoader(data, batch_size=4, shuffle=True, collate_fn=collate_fn_chunk)\n",
        "# # initial batch_size=2"
      ],
      "execution_count": null,
      "outputs": [
        {
          "output_type": "error",
          "ename": "NameError",
          "evalue": "ignored",
          "traceback": [
            "\u001b[0;31m---------------------------------------------------------------------------\u001b[0m",
            "\u001b[0;31mNameError\u001b[0m                                 Traceback (most recent call last)",
            "\u001b[0;32m<ipython-input-22-cfc175086b6c>\u001b[0m in \u001b[0;36m<module>\u001b[0;34m()\u001b[0m\n\u001b[0;32m----> 1\u001b[0;31m \u001b[0mtrain_loader\u001b[0m \u001b[0;34m=\u001b[0m \u001b[0mDataLoader\u001b[0m\u001b[0;34m(\u001b[0m\u001b[0mdata\u001b[0m\u001b[0;34m,\u001b[0m \u001b[0mbatch_size\u001b[0m\u001b[0;34m=\u001b[0m\u001b[0;36m4\u001b[0m\u001b[0;34m,\u001b[0m \u001b[0mshuffle\u001b[0m\u001b[0;34m=\u001b[0m\u001b[0;32mTrue\u001b[0m\u001b[0;34m,\u001b[0m \u001b[0mcollate_fn\u001b[0m\u001b[0;34m=\u001b[0m\u001b[0mcollate_fn_chunk\u001b[0m\u001b[0;34m)\u001b[0m\u001b[0;34m\u001b[0m\u001b[0;34m\u001b[0m\u001b[0m\n\u001b[0m\u001b[1;32m      2\u001b[0m \u001b[0;31m# initial batch_size=2\u001b[0m\u001b[0;34m\u001b[0m\u001b[0;34m\u001b[0m\u001b[0;34m\u001b[0m\u001b[0m\n",
            "\u001b[0;31mNameError\u001b[0m: name 'data' is not defined"
          ]
        }
      ]
    },
    {
      "cell_type": "code",
      "metadata": {
        "colab": {
          "background_save": true,
          "base_uri": "https://localhost:8080/"
        },
        "id": "KuPbczmbqWyP",
        "outputId": "695e089f-0518-4395-e9c1-fde16b5e7c79"
      },
      "source": [
        "loss_batch = []\n",
        "loss_validation = []\n",
        "\n",
        "for epoch in range(epochs):\n",
        "  model.train()\n",
        "  start = timer()\n",
        "\n",
        "  for i, batch in enumerate(train_loader):\n",
        "    samples, targets = batch['sample'], batch['target']\n",
        "    #set_trace()\n",
        "    if gpu_boole:\n",
        "      samples, targets = samples.cuda(), targets.cuda()\n",
        "    optimizer.zero_grad()\n",
        "    outputs = model(samples)\n",
        "    out_freq = spec(outputs)\n",
        "    target_freq = spec(targets)\n",
        "    loss = loss_metric(out_freq, target_freq) + loss_metric(outputs, targets)\n",
        "    loss.backward()\n",
        "    optimizer.step()\n",
        "    loss = loss.cpu().data.numpy().item()\n",
        "    loss_batch.append(loss)\n",
        "\n",
        "    del loss, outputs\n",
        "    if i % 10 == 0:\n",
        "      print(f'Epoch{epoch}: Time elapsed: {timer() - start:.2f} | Loss: {loss_batch[-1]:.5f} | Memory Allocated: {torch.cuda.memory_allocated()}')\n",
        "  \n",
        "  val_loss = model_eval(model, val_loader, loss_metric, mode=\"Validation\")\n",
        "  loss_validation.append(val_loss)"
      ],
      "execution_count": null,
      "outputs": [
        {
          "output_type": "stream",
          "text": [
            "Epoch 0\n",
            "Epoch0: Time elapsed: 0.34 | Loss: 0.00021 | Memory Allocated: 3129204736\n"
          ],
          "name": "stdout"
        },
        {
          "output_type": "error",
          "ename": "KeyboardInterrupt",
          "evalue": "ignored",
          "traceback": [
            "\u001b[0;31m---------------------------------------------------------------------------\u001b[0m",
            "\u001b[0;31mKeyboardInterrupt\u001b[0m                         Traceback (most recent call last)",
            "\u001b[0;32m<ipython-input-112-f2102ac752bf>\u001b[0m in \u001b[0;36m<module>\u001b[0;34m()\u001b[0m\n\u001b[1;32m     21\u001b[0m     \u001b[0mloss\u001b[0m\u001b[0;34m.\u001b[0m\u001b[0mbackward\u001b[0m\u001b[0;34m(\u001b[0m\u001b[0;34m)\u001b[0m\u001b[0;34m\u001b[0m\u001b[0;34m\u001b[0m\u001b[0m\n\u001b[1;32m     22\u001b[0m     \u001b[0moptimizer\u001b[0m\u001b[0;34m.\u001b[0m\u001b[0mstep\u001b[0m\u001b[0;34m(\u001b[0m\u001b[0;34m)\u001b[0m\u001b[0;34m\u001b[0m\u001b[0;34m\u001b[0m\u001b[0m\n\u001b[0;32m---> 23\u001b[0;31m     \u001b[0mloss\u001b[0m \u001b[0;34m=\u001b[0m \u001b[0mloss\u001b[0m\u001b[0;34m.\u001b[0m\u001b[0mcpu\u001b[0m\u001b[0;34m(\u001b[0m\u001b[0;34m)\u001b[0m\u001b[0;34m.\u001b[0m\u001b[0mdata\u001b[0m\u001b[0;34m.\u001b[0m\u001b[0mnumpy\u001b[0m\u001b[0;34m(\u001b[0m\u001b[0;34m)\u001b[0m\u001b[0;34m.\u001b[0m\u001b[0mitem\u001b[0m\u001b[0;34m(\u001b[0m\u001b[0;34m)\u001b[0m\u001b[0;34m\u001b[0m\u001b[0;34m\u001b[0m\u001b[0m\n\u001b[0m\u001b[1;32m     24\u001b[0m     \u001b[0mloss_batch\u001b[0m\u001b[0;34m.\u001b[0m\u001b[0mappend\u001b[0m\u001b[0;34m(\u001b[0m\u001b[0mloss\u001b[0m\u001b[0;34m)\u001b[0m\u001b[0;34m\u001b[0m\u001b[0;34m\u001b[0m\u001b[0m\n\u001b[1;32m     25\u001b[0m     \u001b[0;32mdel\u001b[0m \u001b[0mloss\u001b[0m\u001b[0;34m,\u001b[0m \u001b[0moutputs\u001b[0m\u001b[0;34m\u001b[0m\u001b[0;34m\u001b[0m\u001b[0m\n",
            "\u001b[0;31mKeyboardInterrupt\u001b[0m: "
          ]
        }
      ]
    },
    {
      "cell_type": "code",
      "metadata": {
        "colab": {
          "base_uri": "https://localhost:8080/",
          "height": 282
        },
        "id": "MolsRf9ttvnT",
        "outputId": "7325e248-5d0e-4006-d577-d8872f8fce92"
      },
      "source": [
        "plt.plot(loss_batch)"
      ],
      "execution_count": null,
      "outputs": [
        {
          "output_type": "execute_result",
          "data": {
            "text/plain": [
              "[<matplotlib.lines.Line2D at 0x7f49fd785dd8>]"
            ]
          },
          "metadata": {
            "tags": []
          },
          "execution_count": 31
        },
        {
          "output_type": "display_data",
          "data": {
            "image/png": "[encoded data removed]",
            "text/plain": [
              "<Figure size 432x288 with 1 Axes>"
            ]
          },
          "metadata": {
            "tags": []
          }
        }
      ]
    },
    {
      "cell_type": "code",
      "metadata": {
        "id": "hqtT8b1pOUQb"
      },
      "source": [
        "torch.save(model, 'model.torch')"
      ],
      "execution_count": null,
      "outputs": []
    },
    {
      "cell_type": "code",
      "metadata": {
        "id": "5NNi0Xjswr3R"
      },
      "source": [
        "sample = val_data[2]['sample'].reshape(1, -1)\n",
        "target = val_data[2]['target'].reshape(1, -1)\n",
        "tensor2wav('test.wav', sample * 32768, 12000)\n",
        "outputs = model(sample.cuda().unsqueeze(0)).squeeze(0).cpu()\n",
        "tensor2wav('test_out.wav', outputs * 32768, 24000)\n",
        "tensor2wav('test_target.wav', target * 32768, 24000)"
      ],
      "execution_count": null,
      "outputs": []
    },
    {
      "cell_type": "code",
      "metadata": {
        "colab": {
          "base_uri": "https://localhost:8080/"
        },
        "id": "I2jfb64fw4hG",
        "outputId": "98f7e0b2-a1f0-4885-a78a-9e2bd7fbbe78"
      },
      "source": [
        "print(outputs, outputs.shape)"
      ],
      "execution_count": null,
      "outputs": [
        {
          "output_type": "stream",
          "text": [
            "tensor([[-0.0974, -0.6396, -0.8779,  ..., -0.8159,  0.2857,  0.2245]],\n",
            "       grad_fn=<CopyBackwards>) torch.Size([1, 156000])\n"
          ],
          "name": "stdout"
        }
      ]
    },
    {
      "cell_type": "code",
      "metadata": {
        "colab": {
          "base_uri": "https://localhost:8080/"
        },
        "id": "l4-riGdFx7pr",
        "outputId": "a3978b0b-035e-4540-e298-c305ec7453c7"
      },
      "source": [
        "print(sample, sample.shape)"
      ],
      "execution_count": null,
      "outputs": [
        {
          "output_type": "stream",
          "text": [
            "tensor([[ 0.0051,  0.0060, -0.0032,  ...,  0.0000,  0.0000,  0.0000]]) torch.Size([1, 66000])\n"
          ],
          "name": "stdout"
        }
      ]
    },
    {
      "cell_type": "code",
      "metadata": {
        "colab": {
          "base_uri": "https://localhost:8080/"
        },
        "id": "4Z5NFI62zVHo",
        "outputId": "d289d32d-d7d6-4d49-a7fd-a10b060b01c8"
      },
      "source": [
        "print(val_data[0]['target'].reshape(1, -1))"
      ],
      "execution_count": null,
      "outputs": [
        {
          "output_type": "stream",
          "text": [
            "tensor([[9.1344e-05, 1.2265e-04, 1.2041e-04,  ..., 0.0000e+00, 0.0000e+00,\n",
            "         0.0000e+00]])\n"
          ],
          "name": "stdout"
        }
      ]
    },
    {
      "cell_type": "code",
      "metadata": {
        "id": "c5VIDuDqYrwm"
      },
      "source": [
        "#Lite model vs large model, replace names with whatever model you want to test\r\n",
        "lite = torch.load('lite.torch').cuda()\r\n",
        "large = torch.load('large.torch').cuda()"
      ],
      "execution_count": 25,
      "outputs": []
    },
    {
      "cell_type": "code",
      "metadata": {
        "id": "F-PY7ZgDzY_Q"
      },
      "source": [
        "eval_inds = random.sample(range(len(test_inds)), 300)\r\n",
        "eval_data = Subset(test_data, eval_inds)\r\n",
        "eval_loader = DataLoader(eval_data, batch_size=10, collate_fn=collate_fn_chunk)"
      ],
      "execution_count": 21,
      "outputs": []
    },
    {
      "cell_type": "code",
      "metadata": {
        "id": "fIpTsrFsahvZ"
      },
      "source": [
        "from tqdm import tqdm"
      ],
      "execution_count": 29,
      "outputs": []
    },
    {
      "cell_type": "code",
      "metadata": {
        "colab": {
          "base_uri": "https://localhost:8080/"
        },
        "id": "AtojYsChYhBs",
        "outputId": "29a45a3d-ccf0-478e-a633-7de7d0ce89a1"
      },
      "source": [
        "loss_metric = nn.MSELoss()\r\n",
        "\r\n",
        "base_loss = []\r\n",
        "lite_loss = []\r\n",
        "large_loss = []\r\n",
        "N = 0\r\n",
        "\r\n",
        "base = torchaudio.transforms.Resample(12000, 24000)\r\n",
        "\r\n",
        "for batch in tqdm(eval_loader):\r\n",
        "  samples, targets = batch['sample'], batch['target']\r\n",
        "  with torch.no_grad():\r\n",
        "\r\n",
        "    base_pred = base(samples)\r\n",
        "    base_loss.append(loss_metric(base_pred, targets))\r\n",
        "    samples, targets = samples.cuda(), targets.cuda()\r\n",
        "\r\n",
        "    lite_pred = lite(samples)\r\n",
        "    N += samples.shape[0]\r\n",
        "    #large_pred = large(samples)\r\n",
        "    lite_loss.append(loss_metric(lite_pred, targets).cpu())\r\n",
        "    #large_loss.append(loss_metric(large_pred, targets).cpu())"
      ],
      "execution_count": 54,
      "outputs": [
        {
          "output_type": "stream",
          "text": [
            "\n",
            "\n",
            "\n",
            "\n",
            "\n",
            "  0%|          | 0/30 [00:00<?, ?it/s]\u001b[A\u001b[A\u001b[A\u001b[A\u001b[A\n",
            "\n",
            "\n",
            "\n",
            "\n",
            "  3%|▎         | 1/30 [00:01<00:45,  1.56s/it]\u001b[A\u001b[A\u001b[A\u001b[A\u001b[A\n",
            "\n",
            "\n",
            "\n",
            "\n",
            "  7%|▋         | 2/30 [00:03<00:43,  1.57s/it]\u001b[A\u001b[A\u001b[A\u001b[A\u001b[A\n",
            "\n",
            "\n",
            "\n",
            "\n",
            " 10%|█         | 3/30 [00:05<00:44,  1.66s/it]\u001b[A\u001b[A\u001b[A\u001b[A\u001b[A\n",
            "\n",
            "\n",
            "\n",
            "\n",
            " 13%|█▎        | 4/30 [00:06<00:43,  1.65s/it]\u001b[A\u001b[A\u001b[A\u001b[A\u001b[A\n",
            "\n",
            "\n",
            "\n",
            "\n",
            " 17%|█▋        | 5/30 [00:08<00:42,  1.71s/it]\u001b[A\u001b[A\u001b[A\u001b[A\u001b[A\n",
            "\n",
            "\n",
            "\n",
            "\n",
            " 20%|██        | 6/30 [00:10<00:40,  1.68s/it]\u001b[A\u001b[A\u001b[A\u001b[A\u001b[A\n",
            "\n",
            "\n",
            "\n",
            "\n",
            " 23%|██▎       | 7/30 [00:11<00:37,  1.65s/it]\u001b[A\u001b[A\u001b[A\u001b[A\u001b[A\n",
            "\n",
            "\n",
            "\n",
            "\n",
            " 27%|██▋       | 8/30 [00:13<00:36,  1.66s/it]\u001b[A\u001b[A\u001b[A\u001b[A\u001b[A\n",
            "\n",
            "\n",
            "\n",
            "\n",
            " 30%|███       | 9/30 [00:14<00:33,  1.61s/it]\u001b[A\u001b[A\u001b[A\u001b[A\u001b[A\n",
            "\n",
            "\n",
            "\n",
            "\n",
            " 33%|███▎      | 10/30 [00:16<00:32,  1.65s/it]\u001b[A\u001b[A\u001b[A\u001b[A\u001b[A\n",
            "\n",
            "\n",
            "\n",
            "\n",
            " 37%|███▋      | 11/30 [00:18<00:33,  1.74s/it]\u001b[A\u001b[A\u001b[A\u001b[A\u001b[A\n",
            "\n",
            "\n",
            "\n",
            "\n",
            " 40%|████      | 12/30 [00:20<00:31,  1.75s/it]\u001b[A\u001b[A\u001b[A\u001b[A\u001b[A\n",
            "\n",
            "\n",
            "\n",
            "\n",
            " 43%|████▎     | 13/30 [00:21<00:28,  1.67s/it]\u001b[A\u001b[A\u001b[A\u001b[A\u001b[A\n",
            "\n",
            "\n",
            "\n",
            "\n",
            " 47%|████▋     | 14/30 [00:23<00:28,  1.75s/it]\u001b[A\u001b[A\u001b[A\u001b[A\u001b[A\n",
            "\n",
            "\n",
            "\n",
            "\n",
            " 50%|█████     | 15/30 [00:25<00:26,  1.78s/it]\u001b[A\u001b[A\u001b[A\u001b[A\u001b[A\n",
            "\n",
            "\n",
            "\n",
            "\n",
            " 53%|█████▎    | 16/30 [00:27<00:24,  1.78s/it]\u001b[A\u001b[A\u001b[A\u001b[A\u001b[A\n",
            "\n",
            "\n",
            "\n",
            "\n",
            " 57%|█████▋    | 17/30 [00:28<00:22,  1.72s/it]\u001b[A\u001b[A\u001b[A\u001b[A\u001b[A\n",
            "\n",
            "\n",
            "\n",
            "\n",
            " 60%|██████    | 18/30 [00:30<00:20,  1.72s/it]\u001b[A\u001b[A\u001b[A\u001b[A\u001b[A\n",
            "\n",
            "\n",
            "\n",
            "\n",
            " 63%|██████▎   | 19/30 [00:32<00:18,  1.71s/it]\u001b[A\u001b[A\u001b[A\u001b[A\u001b[A\n",
            "\n",
            "\n",
            "\n",
            "\n",
            " 67%|██████▋   | 20/30 [00:34<00:17,  1.74s/it]\u001b[A\u001b[A\u001b[A\u001b[A\u001b[A\n",
            "\n",
            "\n",
            "\n",
            "\n",
            " 70%|███████   | 21/30 [00:35<00:15,  1.68s/it]\u001b[A\u001b[A\u001b[A\u001b[A\u001b[A\n",
            "\n",
            "\n",
            "\n",
            "\n",
            " 73%|███████▎  | 22/30 [00:37<00:13,  1.65s/it]\u001b[A\u001b[A\u001b[A\u001b[A\u001b[A\n",
            "\n",
            "\n",
            "\n",
            "\n",
            " 77%|███████▋  | 23/30 [00:38<00:11,  1.64s/it]\u001b[A\u001b[A\u001b[A\u001b[A\u001b[A\n",
            "\n",
            "\n",
            "\n",
            "\n",
            " 80%|████████  | 24/30 [00:40<00:09,  1.62s/it]\u001b[A\u001b[A\u001b[A\u001b[A\u001b[A\n",
            "\n",
            "\n",
            "\n",
            "\n",
            " 83%|████████▎ | 25/30 [00:42<00:08,  1.67s/it]\u001b[A\u001b[A\u001b[A\u001b[A\u001b[A\n",
            "\n",
            "\n",
            "\n",
            "\n",
            " 87%|████████▋ | 26/30 [00:43<00:06,  1.68s/it]\u001b[A\u001b[A\u001b[A\u001b[A\u001b[A\n",
            "\n",
            "\n",
            "\n",
            "\n",
            " 90%|█████████ | 27/30 [00:45<00:05,  1.69s/it]\u001b[A\u001b[A\u001b[A\u001b[A\u001b[A\n",
            "\n",
            "\n",
            "\n",
            "\n",
            " 93%|█████████▎| 28/30 [00:47<00:03,  1.72s/it]\u001b[A\u001b[A\u001b[A\u001b[A\u001b[A\n",
            "\n",
            "\n",
            "\n",
            "\n",
            " 97%|█████████▋| 29/30 [00:49<00:01,  1.76s/it]\u001b[A\u001b[A\u001b[A\u001b[A\u001b[A\n",
            "\n",
            "\n",
            "\n",
            "\n",
            "100%|██████████| 30/30 [00:51<00:00,  1.70s/it]\n"
          ],
          "name": "stderr"
        }
      ]
    },
    {
      "cell_type": "code",
      "metadata": {
        "colab": {
          "base_uri": "https://localhost:8080/"
        },
        "id": "Pri7CXvkZ4v8",
        "outputId": "0bc8f4e5-a9be-4b22-e226-0f0ecaba4252"
      },
      "source": [
        "np.array(base_loss).mean() "
      ],
      "execution_count": 50,
      "outputs": [
        {
          "output_type": "execute_result",
          "data": {
            "text/plain": [
              "0.0004559212"
            ]
          },
          "metadata": {
            "tags": []
          },
          "execution_count": 50
        }
      ]
    },
    {
      "cell_type": "code",
      "metadata": {
        "colab": {
          "base_uri": "https://localhost:8080/"
        },
        "id": "FFO6irYocIQL",
        "outputId": "f0b7b220-33fe-415f-aa16-80fc469aaf63"
      },
      "source": [
        "np.array(lite_loss).mean()"
      ],
      "execution_count": 51,
      "outputs": [
        {
          "output_type": "execute_result",
          "data": {
            "text/plain": [
              "0.00043919904"
            ]
          },
          "metadata": {
            "tags": []
          },
          "execution_count": 51
        }
      ]
    },
    {
      "cell_type": "code",
      "metadata": {
        "colab": {
          "base_uri": "https://localhost:8080/"
        },
        "id": "QHNnAcgJfigW",
        "outputId": "86920178-08c5-4b70-e79c-291602f90462"
      },
      "source": [
        "np.array(base_loss).std() / np.sqrt(N)"
      ],
      "execution_count": 55,
      "outputs": [
        {
          "output_type": "execute_result",
          "data": {
            "text/plain": [
              "1.5543495976941718e-06"
            ]
          },
          "metadata": {
            "tags": []
          },
          "execution_count": 55
        }
      ]
    },
    {
      "cell_type": "code",
      "metadata": {
        "colab": {
          "base_uri": "https://localhost:8080/"
        },
        "id": "1Mx_Bm6Hhisd",
        "outputId": "c2e9d0cd-6b49-4cd3-cd4b-f2d89d4b9970"
      },
      "source": [
        "np.array(lite_loss).std() / np.sqrt(N)"
      ],
      "execution_count": 56,
      "outputs": [
        {
          "output_type": "execute_result",
          "data": {
            "text/plain": [
              "1.5292641641566676e-06"
            ]
          },
          "metadata": {
            "tags": []
          },
          "execution_count": 56
        }
      ]
    },
    {
      "cell_type": "code",
      "metadata": {
        "id": "9byQPYu7hlp_"
      },
      "source": [
        ""
      ],
      "execution_count": null,
      "outputs": []
    }
  ]
}